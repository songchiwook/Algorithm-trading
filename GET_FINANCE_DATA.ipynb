{
 "cells": [
  {
   "cell_type": "markdown",
   "id": "4b07e9bd",
   "metadata": {},
   "source": [
    "* 상장회사수 및 시가총액은 부동산투자회사, 선박투자회사 및 증권투자회사 등을 포함하고 있음 \n",
    "\n",
    "* 유가증권시장 + KOSDAQ\n",
    "\n",
    "* 상장회사수와 상장종목수는 다르다 (상장종목수는 우량주를 다 포함한 수)\n",
    "\n",
    "KOSPI + KOSDAQ + DELISTING // 2012년부터"
   ]
  },
  {
   "cell_type": "markdown",
   "id": "60512457",
   "metadata": {},
   "source": [
    "1.KOSPI, KOSDAQ 목록에서 거래되는 Symbol 얻기 // 보통주\n",
    "\n",
    "2.DELISTING 목록에서 중복 제거 된 Symbol 얻기\n",
    "\n",
    "///KRX정보데이터시스템 -> [12005] 전종목 기본정보///\n",
    "\n",
    "kospi_stocks = fdr.StockListing('KOSPI') # 코스피\n",
    "\n",
    "kosdaq_stocks = fdr.StockListing('KOSDAQ') # 코스닥\n",
    "은 현재 주권 여부(단축코드가 7자리가 아니라 6자리)를 알 수 없기 때문에 쓰질 못한다.\n",
    "\n",
    "/// 참고로 주권 코드는 A임 ///"
   ]
  },
  {
   "cell_type": "code",
   "execution_count": null,
   "id": "92ca09a0",
   "metadata": {},
   "outputs": [],
   "source": [
    "import FinanceDataReader as fdr\n",
    "\n",
    "delisting_stocks = fdr.StockListing('KRX-DELISTING')"
   ]
  },
  {
   "cell_type": "code",
   "execution_count": null,
   "id": "b06ae426",
   "metadata": {
    "scrolled": true
   },
   "outputs": [],
   "source": [
    "# 주권 + 부동산투자회사 + 선박투자회사 + 투자회사 + 외국주권 + 주식예탁증권\n",
    "\n",
    "con1 = (delisting_stocks['Market'] == 'KOSPI') | (delisting_stocks['Market'] == 'KOSDAQ')\n",
    "\n",
    "con2 = (delisting_stocks['DelistingDate'] >= '2012-01-01')\n",
    "\n",
    "con3 = (delisting_stocks['SecuGroup'] != '수익증권') & (delisting_stocks['SecuGroup'] != '신주인수권증서') \\\n",
    "        & (delisting_stocks['SecuGroup'] != '신주인수권증권')\n",
    "\n",
    "delisted_symbol = delisting_stocks[con1 & con2 & con3].drop_duplicates('Symbol')"
   ]
  },
  {
   "cell_type": "code",
   "execution_count": null,
   "id": "d1c89744",
   "metadata": {},
   "outputs": [],
   "source": [
    "# 우선 우선주는 제거함.\n",
    "\n",
    "import re\n",
    "con = delisted_symbol['Symbol'].str.contains(re.compile('[0]$'))\n",
    "delisted_symbol = delisted_symbol[con]"
   ]
  },
  {
   "cell_type": "code",
   "execution_count": null,
   "id": "50a751d0",
   "metadata": {},
   "outputs": [],
   "source": [
    "delisted_symbol"
   ]
  },
  {
   "cell_type": "code",
   "execution_count": null,
   "id": "d1635ac6",
   "metadata": {},
   "outputs": [],
   "source": [
    "import pandas as pd\n",
    "\n",
    "# 1.불러오기\n",
    "current_stocks = pd.read_csv('C:/Users/scw03/Desktop/StockProject/data/data_2837_20220426.csv', encoding='cp949')\n",
    "current_stocks.rename(columns={'단축코드': 'Symbol'}, inplace=True)"
   ]
  },
  {
   "cell_type": "code",
   "execution_count": null,
   "id": "caea58d4",
   "metadata": {},
   "outputs": [],
   "source": [
    "con1 = (current_stocks['시장구분'] == 'KOSPI') | (current_stocks['시장구분'] == 'KOSDAQ')\n",
    "\n",
    "con2 = (current_stocks['주식종류'] == '보통주')\n",
    "\n",
    "current_symbol = current_stocks[con1 & con2].drop_duplicates('Symbol')"
   ]
  },
  {
   "cell_type": "code",
   "execution_count": null,
   "id": "072aa128",
   "metadata": {},
   "outputs": [],
   "source": [
    "current_symbol"
   ]
  },
  {
   "cell_type": "code",
   "execution_count": null,
   "id": "aced9436",
   "metadata": {
    "scrolled": true
   },
   "outputs": [],
   "source": [
    "pd.merge(left=current_symbol, right=delisted_symbol, on='Symbol', how='inner') # inner해서 결과값이 없으면 교집합이 없다는 뜻"
   ]
  },
  {
   "cell_type": "code",
   "execution_count": null,
   "id": "e347d336",
   "metadata": {},
   "outputs": [],
   "source": [
    "import time\n",
    "\n",
    "def get_Historical_price_data(symbol_series):\n",
    "    count = 0\n",
    "    tolen = len(symbol_series)\n",
    "    symbol = symbol_series.iloc[count]\n",
    "    df1 = fdr.DataReader(symbol, start='2012-01-01', end='2022-03-30')\n",
    "    level_0 = [symbol]\n",
    "    level_1 = df1.columns\n",
    "    df1.columns = pd.MultiIndex.from_product( [level_0, level_1] )\n",
    "    count += 1\n",
    "    while count <= tolen-1:\n",
    "        symbol = symbol_series.iloc[count]\n",
    "        temdf = fdr.DataReader(symbol, start='2012-01-01', end='2022-03-30')\n",
    "        level_0 = [symbol]\n",
    "        level_1 = temdf.columns\n",
    "        temdf.columns = pd.MultiIndex.from_product( [level_0, level_1] )\n",
    "        df1 = pd.concat([df1,temdf], axis=1)\n",
    "        count += 1\n",
    "        if count == int(tolen/4):\n",
    "            print(\"약 25% 완료\")\n",
    "        if count == int(tolen/2):\n",
    "            print(\"약 50% 완료\")\n",
    "        if count == int(3*tolen/4):\n",
    "            print(\"약 75% 완료\")\n",
    "        time.sleep(float(0.5))\n",
    "    return df1"
   ]
  },
  {
   "cell_type": "code",
   "execution_count": null,
   "id": "62372ba1",
   "metadata": {
    "scrolled": true
   },
   "outputs": [],
   "source": [
    "%%time\n",
    "delisting_ohlcvc_data = get_Historical_price_data(delisted_symbol['Symbol'])"
   ]
  },
  {
   "cell_type": "code",
   "execution_count": null,
   "id": "c22f41e9",
   "metadata": {
    "scrolled": true
   },
   "outputs": [],
   "source": [
    "delisting_ohlcvc_data"
   ]
  },
  {
   "cell_type": "code",
   "execution_count": null,
   "id": "91f165a2",
   "metadata": {
    "scrolled": true
   },
   "outputs": [],
   "source": [
    "%%time\n",
    "current_ohlcvc_data = get_Historical_price_data(current_symbol['Symbol'])"
   ]
  },
  {
   "cell_type": "code",
   "execution_count": null,
   "id": "df55aa0a",
   "metadata": {},
   "outputs": [],
   "source": [
    "current_ohlcvc_data"
   ]
  },
  {
   "cell_type": "code",
   "execution_count": null,
   "id": "052f1c60",
   "metadata": {},
   "outputs": [],
   "source": [
    "# 멀티인덱스에서 탐색할때는 낮은 레벨부터 검색한다.\n",
    "# slice(None) 과 : 는 문법적으로 같은 의미이나 dataframe의 문법적 한계로 인해 :는 인식불가\n",
    "delisting_ohlcvc_data.loc[:, (slice(None), 'Open')]"
   ]
  },
  {
   "cell_type": "code",
   "execution_count": null,
   "id": "8f2ceaea",
   "metadata": {
    "scrolled": true
   },
   "outputs": [],
   "source": [
    "complete_ohlcvc_data = pd.concat([current_ohlcvc_data,delisting_ohlcvc_data], axis=1)"
   ]
  },
  {
   "cell_type": "code",
   "execution_count": null,
   "id": "a90f6ef2",
   "metadata": {
    "scrolled": true
   },
   "outputs": [],
   "source": [
    "# csv 파일 저장하기\n",
    "complete_ohlcvc_data.to_csv('C:/Users/scw03/Desktop/StockProject/data/complete_ohlcvc_data.csv', encoding='cp949')"
   ]
  },
  {
   "cell_type": "markdown",
   "id": "6c5fcdc9",
   "metadata": {},
   "source": [
    "# 데이터 베이스 완료\n",
    "\n",
    "상장폐지 되면 데이터가 nan으로 나오고 거래 정지되면 종가 빼고 0.0 데이터를 얻는것 같음.\n",
    "\n",
    "증권시장 총상장회사수는 거래 정지 된 것 놔두는 것이 더 정확하다."
   ]
  },
  {
   "cell_type": "code",
   "execution_count": 179,
   "id": "4dfa1c16",
   "metadata": {},
   "outputs": [
    {
     "data": {
      "text/plain": [
       "\"# delisting 된 기업인지 검색\\ndelisted_symbol[delisted_symbol['Symbol'] == '114130']\\n\\n# delisting 안된 기업인지 검색\\ncurrent_symbol[current_symbol['Symbol'] == '114130']\\n\\n# 조건검색\\ncon1 = (df_comple.loc['2014-04', (slice(None), 'Open')].count() != 22)\\ncon2 = (df_comple.loc['2014-04', (slice(None), 'Open')].count() != 0)\\n\\ndf_comple_comple = df_comple.loc['2014-04', con1.loc[con1 & con2].index]\""
      ]
     },
     "execution_count": 179,
     "metadata": {},
     "output_type": "execute_result"
    }
   ],
   "source": [
    "\"\"\"# delisting 된 기업인지 검색\n",
    "delisted_symbol[delisted_symbol['Symbol'] == '114130']\n",
    "\n",
    "# delisting 안된 기업인지 검색\n",
    "current_symbol[current_symbol['Symbol'] == '114130']\n",
    "\n",
    "# 조건검색\n",
    "con1 = (df_comple.loc['2014-04', (slice(None), 'Open')].count() != 22)\n",
    "con2 = (df_comple.loc['2014-04', (slice(None), 'Open')].count() != 0)\n",
    "\n",
    "df_comple_comple = df_comple.loc['2014-04', con1.loc[con1 & con2].index]\"\"\""
   ]
  },
  {
   "cell_type": "code",
   "execution_count": 1,
   "id": "beeec544",
   "metadata": {},
   "outputs": [],
   "source": [
    "import pandas as pd\n",
    "# csv 파일 불러오기\n",
    "complete_ohlcvc_data = pd.read_csv('C:/Users/scw03/Desktop/StockProject/data/complete_ohlcvc_data.csv',\\\n",
    "                                   encoding='cp949', index_col=0 , parse_dates=True, header=[0,1])"
   ]
  },
  {
   "cell_type": "code",
   "execution_count": 105,
   "id": "32f10590",
   "metadata": {},
   "outputs": [],
   "source": [
    "# 거래 정지되었지만 상장폐지는 안된 종목 제외\n",
    "import numpy as np\n",
    "df_comple = complete_ohlcvc_data.replace(0.0, np.nan)"
   ]
  },
  {
   "cell_type": "code",
   "execution_count": 170,
   "id": "a251446f",
   "metadata": {},
   "outputs": [],
   "source": [
    "def last_day(sample):\n",
    "    \"\"\"\n",
    "    샘플링 기간중에 마지막 데이터를 리턴\n",
    "    \"\"\"\n",
    "    return sample[-1]\n",
    "\n",
    "df_comple_plot = df_comple.loc[:, (slice(None), 'Open')].count(axis=1).resample(rule='M').apply(last_day)\n",
    "complete_ohlcvc_data_plot = complete_ohlcvc_data.loc[:, (slice(None), 'Open')].count(axis=1).resample(rule='M').apply(last_day)"
   ]
  },
  {
   "cell_type": "code",
   "execution_count": 159,
   "id": "946102cd",
   "metadata": {},
   "outputs": [],
   "source": [
    "# e나라지표에서 상장총회사수 가져오기 (excel -> csv로 변환)\n",
    "# 2번째 줄 부터\n",
    "df_totsym = pd.read_csv('C:/Users/scw03/Desktop/StockProject/data/stat_107901.csv', encoding='utf-8',skiprows=2, index_col=1 , parse_dates=True)"
   ]
  },
  {
   "cell_type": "code",
   "execution_count": 160,
   "id": "05de5d21",
   "metadata": {},
   "outputs": [],
   "source": [
    "df_totsym = df_totsym.iloc[0][1:].str.replace(',','').apply(pd.to_numeric)\n",
    "from datetime import datetime\n",
    "df_totsym.index = df_comple_plot.index"
   ]
  },
  {
   "cell_type": "code",
   "execution_count": 178,
   "id": "cc5d054f",
   "metadata": {},
   "outputs": [
    {
     "data": {
      "text/plain": [
       "<matplotlib.legend.Legend at 0x23111671070>"
      ]
     },
     "execution_count": 178,
     "metadata": {},
     "output_type": "execute_result"
    },
    {
     "data": {
      "image/png": "[encoded data removed]",
      "text/plain": [
       "<Figure size 1152x720 with 1 Axes>"
      ]
     },
     "metadata": {
      "needs_background": "light"
     },
     "output_type": "display_data"
    }
   ],
   "source": [
    "# 상장총회사수 그리기\n",
    "import matplotlib as mpl\n",
    "import matplotlib.pyplot as plt\n",
    "\n",
    "fig, ax = plt.subplots(figsize=(16, 10))\n",
    "\n",
    "mpl.rc('font', family='NanumGothic')\n",
    "\n",
    "plt.title('상장총회사수')\n",
    "df_totsym.plot(label='e나라지표')\n",
    "df_comple_plot.plot(label='0.0제외')\n",
    "complete_ohlcvc_data_plot.plot(label='0.0안제외')\n",
    "plt.legend()"
   ]
  },
  {
   "cell_type": "code",
   "execution_count": null,
   "id": "61c7f1f3",
   "metadata": {},
   "outputs": [],
   "source": []
  }
 ],
 "metadata": {
  "kernelspec": {
   "display_name": "Python 3",
   "language": "python",
   "name": "python3"
  },
  "language_info": {
   "codemirror_mode": {
    "name": "ipython",
    "version": 3
   },
   "file_extension": ".py",
   "mimetype": "text/x-python",
   "name": "python",
   "nbconvert_exporter": "python",
   "pygments_lexer": "ipython3",
   "version": "3.8.10"
  }
 },
 "nbformat": 4,
 "nbformat_minor": 5
}
